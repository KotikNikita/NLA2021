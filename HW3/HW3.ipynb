{
 "cells": [
  {
   "cell_type": "markdown",
   "metadata": {},
   "source": [
    "# Problem set 3 (90 pts)\n",
    "\n",
    "## Important note: the template for your solution filename is Name_Surname_PS3.ipynb\n",
    "\n",
    "### The correct answer to the bonus question can be used as an additional reason to increase the final grade in the border case"
   ]
  },
  {
   "cell_type": "markdown",
   "metadata": {},
   "source": [
    "## Problem 1 (25 pts)\n",
    "\n",
    "- (5 pts) Prove that $\\mathrm{vec}(AXB) = (B^\\top \\otimes A)\\, \\mathrm{vec}(X)$ if $\\mathrm{vec}(X)$ is a columnwise reshape of a matrix into a long vector. What does it change if the reshape is rowwise? \n",
    "\n",
    "**Note:** To make a columnwise reshape in Python one should use ```np.reshape(X, order='f')```, where the string ```'f'``` stands for the Fortran ordering. \n",
    "\n",
    "- (2 pts) What is the complexity of a naive computation of $(A \\otimes B) x$? Show how it can be reduced.\n",
    "\n",
    "- (3 pts) Let matrices $A$ and $B$ have eigendecompositions $A = S_A\\Lambda_A S_A^{-1}$ and $B = S_B\\Lambda_B S^{-1}_B$. Find eigenvectors and eigenvalues of the matrix $A\\otimes I + I \\otimes B$, where dimension of $I$ coincides with the dimension of $A$ and $B$.\n",
    "\n",
    "\n",
    "- (10 pts) Let $A = \\mathrm{diag}\\left(\\frac{1}{1000},\\frac{2}{1000},\\dots \\frac{999}{1000}, 1, 1000 \\right)$. Estimate analytically the number of iterations required  to solve linear system with $A$ with the relative accuracy $10^{-4}$ using\n",
    "    - Richardson iteration with the optimal choice of parameter (use $2$-norm)\n",
    "    - Chebyshev iteration (use $2$-norm)\n",
    "    - Conjugate gradient method (use $A$-norm).\n",
    "    \n",
    "- (5 pts) Provide numerical confirmation of your estimate from theoretical point of view"
   ]
  },
  {
   "cell_type": "markdown",
   "metadata": {},
   "source": [
    "- Prove that $\\mathrm{vec}(AXB) = (B^\\top \\otimes A)\\, \\mathrm{vec}(X)$ if $\\mathrm{vec}(X)$ is a columnwise reshape of a matrix into a long vector. What does it change if the reshape is rowwise?  \n",
    "Let's denote $A_i$ as $i$-th column of matrix $A$. $A$, $X$, $B$ has sizes: $m \\times n$, $n \\times p$, $p \\times q$ respectively. Then:  \n",
    "<!-- $(AXB)_{ks} = \\sum\\limits_{i=1}^{n}\\sum\\limits_{j=1}^{p}a_{ki} x_{ij} b_{js} = \\sum\\limits_{i=1}^{n}a_{ki}\\sum\\limits_{j=1}^{p} x_{ij} b_{js}$ -->\n",
    "$B = \\begin{bmatrix} B_1 & B_2 & \\ldots & B_q\\end{bmatrix}$, $AXB = AX\\begin{bmatrix} B_1 & B_2 & \\ldots & B_q\\end{bmatrix} = \\begin{bmatrix} AXB_1 & AXB_2 & \\ldots & AXB_q\\end{bmatrix}$. That's mean that $(AXB)_i = AXB_i$.\n",
    "Now we can write: $(AXB)_s = AXB_s = A \\left(\\sum\\limits_{i=1}^{p} X_{i}b_{is}  \\right) = \\sum\\limits_{i=1}^{p} b_{is}AX_{i} = \\sum\\limits_{i=1}^{p} (b_{is}A)X_{i} = \\left\\{ \\text{the gaze method} \\right\\} = \\begin{bmatrix} b_{1s}A & b_{2s}A & \\ldots & b_{ps}A  \\end{bmatrix} \\text{Vec}(X) = (B_s^T \\otimes A)\\text{Vec}(X) \\Rightarrow \\mathrm{vec}(AXB) = \\begin{bmatrix} B_1^T \\otimes A \\\\ \\vdots \\\\ B_q^T \\otimes A\\end{bmatrix}\\text{Vec}(X) = (B^\\top \\otimes A)\\, \\mathrm{vec}(X)$  \n",
    "Now it is easy to get a similar formula for rowwise $\\mathrm{Vec}_\\text{row}(X) = \\mathrm{Vec}(X^T)$: $\\mathrm{Vec}_\\text{row}(AXB) = \\mathrm{Vec}(B^TX^TA^T) = (A \\otimes B^T)\\mathrm{Vec}(X^T) =(A \\otimes B^T)\\mathrm{Vec}_\\text{row}(X) $\n",
    "\n",
    "\n",
    "\n",
    "\n",
    "\n",
    "\n",
    "\n",
    "- What is the complexity of a naive computation of $(A \\otimes B) x$? Show how it can be reduced  \n",
    "Assume $A$ and $B$ has sizes $m \\times n$ and $p \\times q$ respectively. Then complexity of $a_{ij}B$ is $pq$. Then complexity of $A \\otimes B$ is $nmpq$. Complexity of matvec multiplication for matrix with shape $mp \\times nq$ is $mnpq$. Thus total complexity of naive computation is $2mnpq = O(mnpq)$. Now we can reduce it using formula from previous task: $\\mathrm{vec}(AXB^\\top) = (B \\otimes A)\\, \\mathrm{vec}(X)$ where $X$ has shape $n \\times q$ and $\\text{Vec}(X) = x$. We know that naive matrix-matrix multiplication ($AX$ for example) has complexity $mnq$. Then complexity of $AXB^T$ is $mnq+nqp$.  \n",
    "\n",
    "\n",
    "\n",
    "- Let matrices $A$ and $B$ have eigendecompositions $A = S_A\\Lambda_A S_A^{-1}$ and $B = S_B\\Lambda_B S^{-1}_B$. Find eigenvectors and eigenvalues of the matrix $A\\otimes I + I \\otimes B$, where dimension of $I$ coincides with the dimension of $A$ and $B$.  \n",
    "We'll use property of kronecker product from lecture: $(A \\otimes B)(C \\otimes D) = (AC) \\otimes (BD)$.   \n",
    "$(S_A \\otimes S_B)(\\Lambda_A \\otimes I)(S_A^{-1} \\otimes S^{-1}_B) = A \\otimes I$  \n",
    "$(S_A \\otimes S_B)(I \\otimes \\Lambda_B)(S_A^{-1} \\otimes S^{-1}_B) = I \\otimes B \\Rightarrow$\n",
    "$A \\otimes I + I \\otimes B = (S_A \\otimes S_B)(\\Lambda_A \\otimes I + I \\otimes \\Lambda_B)(S_A^{-1} \\otimes S^{-1}_B)$. Also we know that $(S \\otimes K)^{-1} = (S^{-1} \\otimes K^{-1})$(since $(S \\otimes K)(S^{-1} \\otimes K^{-1}) = SS^{-1} \\otimes KK^{-1} = I \\otimes I = I$ where $I$ has different sizes). And we know that $A$ and $SAS^{-1}$ has the same eigenvalues. So $\\lambda\\left( (S_A \\otimes S_B)(\\Lambda_A \\otimes I + I \\otimes \\Lambda_B)(S_A^{-1} \\otimes S^{-1}_B) \\right) = \\lambda\\left( (\\Lambda_A \\otimes I + I \\otimes \\Lambda_B) \\right)$. Let's look at first diagonal block:\n",
    "$$\n",
    "\\begin{bmatrix}\n",
    "\\lambda_{1} + \\mu_1 & 0 & \\ldots & 0 \\\\\n",
    "0 & \\lambda_{1} + \\mu_2 & \\ldots & 0 \\\\\n",
    "\\ldots & \\ldots & \\ldots & \\ldots \\\\\n",
    "0 & 0 & \\ldots & \\lambda_{1} + \\mu_n \n",
    "\\end{bmatrix}\n",
    "$$\n",
    "Second diagonal block:\n",
    "$$\n",
    "\\begin{bmatrix}\n",
    "\\lambda_{2} + \\mu_1 & 0 & \\ldots & 0 \\\\\n",
    "0 & \\lambda_{2} + \\mu_2 & \\ldots & 0 \\\\\n",
    "\\ldots & \\ldots & \\ldots & \\ldots \\\\\n",
    "0 & 0 & \\ldots & \\lambda_{2} + \\mu_n \n",
    "\\end{bmatrix}\n",
    "$$\n",
    "$\\ldots$ last diagonal block:\n",
    "$$\n",
    "\\begin{bmatrix}\n",
    "\\lambda_{m} + \\mu_1 & 0 & \\ldots & 0 \\\\\n",
    "0 & \\lambda_{m} + \\mu_2 & \\ldots & 0 \\\\\n",
    "\\ldots & \\ldots & \\ldots & \\ldots \\\\\n",
    "0 & 0 & \\ldots & \\lambda_{m} + \\mu_n \n",
    "\\end{bmatrix}\n",
    "$$\n",
    "Other elements are zeros. So, we found that $\\lambda(A\\otimes I + I \\otimes B) = \\left\\{ \\lambda_i+\\mu_j | i = \\overline{1,m}\\text{,} i = \\overline{1,n} \\right\\}$ where $\\lambda_i$ is eigval of $A$ and $\\mu_j$ is eigval of $B$ $\\left(\\lambda_i \\in \\lambda(A) \\text{, } \\mu_j \\in \\lambda(B)\\right)$.  We know that eigvec of $A$ is $S_Ae_i$ $\\left(\\text{since } A S_Ae_i = S_A\\Lambda_A S_A^{-1} S_Ae_i = S_A\\Lambda_A e_i = S_A\\lambda_i e_i = \\lambda_i S_A e_i \\right)$, it's easy to understand that if $x_i = S_Ae_i$ is eigvec of $A$ and $y_j = S_Be^{'}_j$ (where $e_j^{'}$ just a vector of a different size than $e_i$, since it's related to matrix $B$, not $A$. Both vectors are vectors of appropriate standard basis)is eigvec of $B$ then $x \\otimes y$ is eigvec of $A \\otimes I + I \\otimes B = (S_A \\otimes S_B)(\\Lambda_A \\otimes I + I \\otimes \\Lambda_B)(S_A^{-1} \\otimes S^{-1}_B)$:  \n",
    "$(A\\otimes I + I \\otimes B)(x_i \\otimes y_j) = (S_A \\otimes S_B)(\\Lambda_A \\otimes I + I \\otimes \\Lambda_B)(S_A^{-1} \\otimes S^{-1}_B)(S_Ae_i \\otimes S_Be^{'}_j) = (S_A \\otimes S_B)(\\Lambda_A \\otimes I + I \\otimes \\Lambda_B)(e_i \\otimes e^{'}_j) = (S_A \\otimes S_B)(\\lambda_i e_i  \\otimes e^{'}_j + e_i \\otimes \\mu_j e^{'}_j) = \\lambda_i x_i \\otimes y_j + x_i \\otimes \\mu_j y_j = (\\lambda_i + \\mu_j)x_i \\otimes y_j$ So eigvecs of $(A\\otimes I + I \\otimes B)$ are all Kronecker products $x_i \\otimes y_j$ where $x_i$ is eigvec of $A$ and $y_j$ is eigvec of $B$\n",
    "\n",
    "\n",
    "- Let $A = \\mathrm{diag}\\left(\\frac{1}{1000},\\frac{2}{1000},\\dots \\frac{999}{1000}, 1, 1000 \\right)$. Estimate analytically the number of iterations required  to solve linear system with $A$ with the relative accuracy $10^{-4}$ using\n",
    "    - Richardson iteration with the optimal choice of parameter (use $2$-norm)\n",
    "    From lectures we know formula $ \\|e_k\\|_2 \\leq q^{k} \\|e_0\\|_2$ where \n",
    "    $$\n",
    "       q = \\frac{\\lambda_{\\max} - \\lambda_{\\min}}{\\lambda_{\\max} + \\lambda_{\\min}} = \\frac{\\mathrm{cond}(A) - 1}{\\mathrm{cond}(A)+1},\n",
    "    $$\n",
    "\n",
    "    $$\\mathrm{cond}(A) = \\frac{\\lambda_{\\max}}{\\lambda_{\\min}} \\quad \\text{for} \\quad A=A^*>0$$\n",
    "    Now it's easy to calculate $k$ from equation $q^k = \\varepsilon = 10^{-4} \\Rightarrow k = \\frac{\\log{\\varepsilon}}{\\log{\\left( \\frac{\\mathrm{cond}(A) - 1}{\\mathrm{cond}(A)+1} \\right)}}$\n",
    "    - Chebyshev iteration (use $2$-norm) Also from lectures we know the same result about chebyshev iteration:\n",
    "    $$\n",
    "       \\|e_{k+1}\\|_2 \\leq C q^k \\|e_0\\|_2, \\quad q = \\frac{\\sqrt{\\mathrm{cond}(A)}-1}{\\sqrt{\\mathrm{cond}(A)}+1}, \\quad C \\leq 2\n",
    "    $$\n",
    "    Again, we can simply find following expression: $k = \\frac{\\log{\\varepsilon / C}}{\\log{\\left( \\frac{\\sqrt{\\mathrm{cond}(A)} - 1}{\\sqrt{\\mathrm{cond}(A)}+1} \\right)}}$\n",
    "    - Conjugate gradient method (use $A$-norm).  \n",
    "    Again, from lecture we know that theoretically method converges in no more than $n$ iterations(it is obvious from the construction of the method). Another resoult from lecture is that for conjugate gradient method the same upper convergence bound holds as for chebyshev iteration:\n",
    "    $$\n",
    "       \\|e_{k+1}\\|_2 \\leq \\gamma q^k \\|e_0\\|_2, \\quad q = \\frac{\\sqrt{\\mathrm{cond}(A)}-1}{\\sqrt{\\mathrm{cond}(A)}+1}, \\quad \\gamma \\leq 2\n",
    "    $$\n",
    "    Now we can write: $k = min\\left(n, \\quad \\frac{\\log{\\varepsilon / \\gamma}}{\\log{\\left( \\frac{\\sqrt{\\mathrm{cond}(A)} - 1}{\\sqrt{\\mathrm{cond}(A)}+1} \\right)}}\\right)$. Numerical results for our analytical estimations will be calculated in next block."
   ]
  },
  {
   "cell_type": "code",
   "execution_count": 147,
   "metadata": {},
   "outputs": [
    {
     "name": "stdout",
     "output_type": "stream",
     "text": [
      "analytical number of Richardson iterations = 4605170.1860125\n",
      "analytical number of Chebyshev iterations = 4951.742125686257\n",
      "analytical number of conjugate gradient iterations = 1001\n",
      "Chebyshev starts\n",
      "cg starts\n"
     ]
    }
   ],
   "source": [
    "# Your solution is here\n",
    "import numpy as np\n",
    "import scipy\n",
    "from scipy.sparse.linalg import LinearOperator\n",
    "from scipy.sparse.linalg import cg\n",
    "l_max = 1000\n",
    "l_min = 1 / 1000\n",
    "eps = 1e-4\n",
    "C = 2\n",
    "n = 1001\n",
    "condA = l_max / l_min\n",
    "k_Richardson = np.log(eps) / np.log((condA - 1) / (condA + 1))\n",
    "k_Chebyshev = np.log(eps / C) / np.log((np.sqrt(condA) - 1) / (np.sqrt(condA) + 1))\n",
    "k_conjugate_grad = min(n, k_Chebyshev)\n",
    "print('analytical number of Richardson iterations =',  k_Richardson)\n",
    "print('analytical number of Chebyshev iterations =',  k_Chebyshev)\n",
    "print('analytical number of conjugate gradient iterations =',  k_conjugate_grad)\n",
    "\n",
    "def richardson_diag(A, f, x0, eps, l_min, l_max, x_correct, maxiter = 1000000):\n",
    "    tau = 2 / (l_min + l_max)\n",
    "    x = x0\n",
    "    error = [np.linalg.norm(x - x_correct) / np.linalg.norm(x_correct)]\n",
    "    while error[-1] > eps and len(error) < maxiter:\n",
    "        x = x - tau * (A * x - f)\n",
    "        error.append(np.linalg.norm(x - x_correct) / np.linalg.norm(x_correct))\n",
    "    return x, error\n",
    "def leb_shuffle_2n(n):\n",
    "    if n == 1:\n",
    "        return np.array([0,], dtype=int)\n",
    "    else:\n",
    "        prev = leb_shuffle_2n(n // 2)\n",
    "        ans = np.zeros(n, dtype=int)\n",
    "        ans[::2] = prev\n",
    "        ans[1::2] = n - 1 - prev\n",
    "        return ans\n",
    "\n",
    "def chebyshev_diag(A, f, x0, eps, l_min, l_max, x_correct, maxiter = 2**20):\n",
    "    x = x0\n",
    "    roots = [np.cos((np.pi * (2 * i + 1)) / (2 * maxiter)) for i in range(maxiter)]\n",
    "    taus = [(l_max + l_min - (l_min - l_max) * r) / 2 for r in roots]\n",
    "    good_perm_even = leb_shuffle_2n(maxiter)\n",
    "    error = [np.linalg.norm(x - x_correct) / np.linalg.norm(x_correct)]\n",
    "#     print('start cheb iterations')\n",
    "    for i in range(maxiter):\n",
    "        x = x - (A * x - f) / taus[good_perm_even[i]]\n",
    "        error.append(np.linalg.norm(x - x_correct) / np.linalg.norm(x_correct))\n",
    "        if error[-1] < eps:\n",
    "            break\n",
    "    return x, error\n",
    "\n",
    "def conjugate_grad(A, f, x0, eps, l_min, l_max, x_correct, maxiter = 1000000):\n",
    "    x = x0.copy()\n",
    "    r = f - A * x\n",
    "    p = r\n",
    "    er = x_correct - x\n",
    "    error = [np.sqrt(np.dot(A * (x_correct - x), x_correct - x) / np.dot(A * x_correct, x_correct))]\n",
    "    for i in range(maxiter):\n",
    "        Ap = A * p\n",
    "        alpha = r @ r / (Ap @ p)\n",
    "        x = x + alpha * p\n",
    "        r_old = r.copy()\n",
    "        r = r - alpha * Ap\n",
    "        beta = r @ r / (r_old @ r_old)\n",
    "        p = r + beta * p\n",
    "        er = x_correct - x\n",
    "        error.append(np.sqrt(np.dot(A * (x_correct - x), x_correct - x) / np.dot(A * x_correct, x_correct)))\n",
    "        if error[-1] < eps:\n",
    "            break\n",
    "    return x, error\n",
    "\n",
    "def A_matvec(x, A):\n",
    "    return A * x\n",
    "\n",
    "class iteretion_counter:\n",
    "    def __init__(self, init_number = 0):\n",
    "        self.s = init_number\n",
    "        \n",
    "    def count(self, x):\n",
    "        self.s += 1\n",
    "        return 0\n",
    "\n",
    "A = (np.arange(1001)+ 1) / 1000\n",
    "A[-1] = 1000\n",
    "# print(A)\n",
    "f = np.ones(1001)\n",
    "x_correct = f / A\n",
    "\n",
    "####################################\n",
    "x_correct = np.random.random(1001)\n",
    "f = A*x_correct\n",
    "####################################\n",
    "\n",
    "# A = np.diag(A)\n",
    "x0 = np.zeros(1001)\n",
    "maxiter = 2**23\n",
    "x_rich, err_rich = richardson_diag(A, f, x0, eps, l_min, l_max, x_correct, maxiter = maxiter)\n",
    "print('Chebyshev starts')\n",
    "x_cheb, err_cheb = chebyshev_diag(A, f, x0, eps, l_min, l_max, x_correct, maxiter = maxiter)\n",
    "print('cg starts')\n",
    "x_conj, err_conj = conjugate_grad(A, f, x0, eps, l_min, l_max, x_correct, maxiter = maxiter)\n",
    "\n",
    "# A_lo = LinearOperator((n, n), matvec = lambda x : A_matvec(x, A))\n",
    "# a = iteretion_counter()\n",
    "# x_cg, info = cg(A_lo,f,tol = eps, maxiter = 2**16, callback = a.count)"
   ]
  },
  {
   "cell_type": "code",
   "execution_count": 148,
   "metadata": {
    "scrolled": false
   },
   "outputs": [
    {
     "name": "stdout",
     "output_type": "stream",
     "text": [
      "final relative accuracy for Richardson = 9.999980134897242e-05\n",
      "number of iterations for Richardson = 3250598\n"
     ]
    },
    {
     "data": {
      "image/png": "[encoded data removed]",
      "text/plain": [
       "<Figure size 432x288 with 1 Axes>"
      ]
     },
     "metadata": {
      "needs_background": "light"
     },
     "output_type": "display_data"
    },
    {
     "name": "stdout",
     "output_type": "stream",
     "text": [
      "final relative accuracy for Chebyshev = 9.822094056061e-05\n",
      "number of iterations for Chebyshev = 5619\n"
     ]
    },
    {
     "data": {
      "image/png": "[encoded data removed]",
      "text/plain": [
       "<Figure size 432x288 with 1 Axes>"
      ]
     },
     "metadata": {
      "needs_background": "light"
     },
     "output_type": "display_data"
    },
    {
     "name": "stdout",
     "output_type": "stream",
     "text": [
      "final relative accuracy for Conjugate gradient = 9.851839096570585e-05\n",
      "number of iterations for Conjugate gradient = 91\n"
     ]
    },
    {
     "data": {
      "image/png": "[encoded data removed]",
      "text/plain": [
       "<Figure size 432x288 with 1 Axes>"
      ]
     },
     "metadata": {
      "needs_background": "light"
     },
     "output_type": "display_data"
    }
   ],
   "source": [
    "import matplotlib.pyplot as plt\n",
    "%matplotlib inline\n",
    "plt.plot(err_rich, label = 'Richardson')\n",
    "plt.legend(fontsize=18)\n",
    "plt.xlabel(\"Number iterations\", fontsize=20)\n",
    "plt.ylabel(r\"relative accuracy \", fontsize=20)\n",
    "plt.yscale('log')\n",
    "plt.xticks(fontsize=16)\n",
    "plt.yticks(fontsize=20)\n",
    "print('final relative accuracy for Richardson =', err_rich[-1])\n",
    "print('number of iterations for Richardson =', len(err_rich))\n",
    "plt.show()\n",
    "\n",
    "plt.plot(err_cheb, label = 'Chebyshev')\n",
    "plt.legend(fontsize=18)\n",
    "plt.xlabel(\"Number iterations\", fontsize=20)\n",
    "plt.ylabel(r\"relative accuracy \", fontsize=20)\n",
    "plt.yscale('log')\n",
    "plt.xticks(fontsize=16)\n",
    "plt.yticks(fontsize=20)\n",
    "print('final relative accuracy for Chebyshev =', err_cheb[-1])\n",
    "print('number of iterations for Chebyshev =', len(err_cheb))\n",
    "plt.show()\n",
    "# print('number of iterations for conjugate gradient =', a.s)\n",
    "# print('relative accuracy =', np.linalg.norm(x_cg - x_correct) / np.linalg.norm(x_correct))\n",
    "\n",
    "plt.plot(err_conj, label = 'Conjugate gradient')\n",
    "plt.legend(fontsize=18)\n",
    "plt.xlabel(\"Number iterations\", fontsize=20)\n",
    "plt.ylabel(r\"relative accuracy \", fontsize=20)\n",
    "plt.yscale('log')\n",
    "plt.xticks(fontsize=16)\n",
    "plt.yticks(fontsize=20)\n",
    "print('final relative accuracy for Conjugate gradient =', err_conj[-1])\n",
    "print('number of iterations for Conjugate gradient =', len(err_conj))\n",
    "plt.show()"
   ]
  },
  {
   "cell_type": "markdown",
   "metadata": {
    "id": "dh0nKsm46hpo"
   },
   "source": [
    "## Problem 2 (65 pts)\n",
    "### On the performance of conjugate gradient method for BTTB matrices.\n",
    "\n",
    "You are given 2D image (QR-code) and convolution operator $T$. The application of $T$ results in smoothing of the image. In exact arithmetic, the proposed $T$ is non-singular. However, it becomes rather ill-conditioned with increasing $N$ in finite precision arithmetic. In this task you need to study how the conjugate gradient method performs in this case."
   ]
  },
  {
   "cell_type": "markdown",
   "metadata": {
    "id": "3gi5DJJz6hps"
   },
   "source": [
    "The original passcode is given below:"
   ]
  },
  {
   "cell_type": "code",
   "execution_count": 4,
   "metadata": {
    "id": "mxPusfbx6hps",
    "outputId": "2fe5ac3f-c23e-4f3d-dc69-b211ec69506b"
   },
   "outputs": [
    {
     "data": {
      "image/png": "[encoded data removed]",
      "text/plain": [
       "<Figure size 640x480 with 1 Axes>"
      ]
     },
     "metadata": {},
     "output_type": "display_data"
    }
   ],
   "source": [
    "import matplotlib.pyplot as plt\n",
    "x = plt.imread('qrcode.gif')[:,:,0]\n",
    "n = x.shape[0]\n",
    "plt.imshow(x, cmap=\"gray\")\n",
    "plt.axis(\"off\")\n",
    "plt.show()"
   ]
  },
  {
   "cell_type": "markdown",
   "metadata": {
    "id": "uHzqVBAK6hpu"
   },
   "source": [
    "Blurring can be performed by convolving $n\\times n$ QR-code with the following filter:\n",
    "\n",
    "$$T_{i_1j_1,i_2j_2} = T_{i_1-j_1,i_2-j_2} = \\frac{\\alpha}{\\pi}e^{-\\alpha[(i_1-i_2)^2 + (j_1-j_2)^2]}, \\quad i_1,j_1,i_2,j_2 = 1 \\ldots n, \\quad 1 > \\alpha > 0.$$\n",
    "\n",
    "You know from lectures that this convolution can be viewed as a matrix-vector multiplication of some BTTB matrix $T$ of size $n^2 \\times n^2$."
   ]
  },
  {
   "cell_type": "markdown",
   "metadata": {
    "id": "nQSQVkG86hpu"
   },
   "source": [
    "## Task 1 (15 pts) \n",
    "\n",
    "- Write function `T_matvec()` that performs multiplication of $T$ by a given vector $x$ efficiently. Remember about FFT.\n",
    "- Use `scipy.sparse.linalg.LinearOperator` to create an object that has attribute `.dot()` (this object will be further used in the iterative process). Note that `.dot()` input and output must be 1D vectors, so do not forget to use reshape."
   ]
  },
  {
   "cell_type": "code",
   "execution_count": 149,
   "metadata": {
    "id": "SKiL6Iky6hpv"
   },
   "outputs": [
    {
     "name": "stdout",
     "output_type": "stream",
     "text": [
      "[0.12628368 0.12594543 0.12884979 0.12889687]\n",
      "[0.12628368 0.12594543 0.12884979 0.12889687]\n",
      "4.8074067159589095e-17\n",
      "4.8074067159589095e-17\n"
     ]
    }
   ],
   "source": [
    "import numpy as np\n",
    "import scipy\n",
    "from scipy.sparse.linalg import LinearOperator\n",
    "def T_matvec(x, alpha):\n",
    "    n = int(x.shape[0]**(1/2))\n",
    "    x_matrix = np.reshape(x,(n,n), order='c')\n",
    "    T = np.array(range(n)).reshape((n,1))\n",
    "    T1 = T.repeat(n,axis=1)\n",
    "    T2 = T1.T\n",
    "    T = alpha * np.exp(- alpha * (T1 ** 2 + T2 ** 2)) / np.pi\n",
    "    T = np.concatenate((T,np.fliplr(T[:,1:])),axis=1)\n",
    "    T = np.concatenate((T,np.flipud(T[1:,:])),axis=0)\n",
    "    pseudo_x = np.zeros(T.shape)\n",
    "    pseudo_x[:n,:n] = x_matrix\n",
    "    pseudo_y = np.fft.ifft2(np.fft.fft2(T) * np.fft.fft2(pseudo_x))\n",
    "#     return pseudo_y[:n,:n]\n",
    "    return np.real(np.reshape(pseudo_y[:n,:n], (n ** 2,), order='c'))\n",
    "alpha = 0.3\n",
    "T_matr = np.array(([0,1,1,2],[1,0,2,1],[1,2,0,1],[2,1,1,0]))\n",
    "l = alpha * np.exp(- alpha * (T_matr)) / np.pi\n",
    "x = np.random.random(4)\n",
    "n = int(x.shape[0]**(1/2))\n",
    "print(l@x)\n",
    "print(T_matvec(x, alpha))\n",
    "print(np.linalg.norm(l@x - T_matvec(x, alpha)))\n",
    "T = LinearOperator((n**2, n**2), matvec = lambda x : T_matvec(x, alpha))\n",
    "# your code is here\n",
    "print(np.linalg.norm(l@x - T.dot(x)))"
   ]
  },
  {
   "cell_type": "markdown",
   "metadata": {
    "id": "Vpj3Llkc6hpv"
   },
   "source": [
    "**Remark.** The obtained matrix $T$ is positive definite (at least in the exact arithmetic), hence the conjugate gradient method can be applied to solve with $T$.\n",
    "\n",
    "**Bonus question: Prove the remark above.**:\n",
    "In fact, this is a convolution with the density of the normal distribution in the two-dimensional case. This kernel is positive definite (in continuous and discrete cases).  Its positive definiteness is proved using the Fourier transform (characteristic function). I won't have time to demonstrate because of lack of time. But in general, this is a well-known Gaussian kernel in machine learning, and its positive certainty is a well-known fact"
   ]
  },
  {
   "cell_type": "markdown",
   "metadata": {
    "id": "fyoFYerG6hpw"
   },
   "source": [
    "## Task 2 (10 pts) \n",
    "- For $\\alpha \\in \\{ 0.1, 0.01,0.001\\}$ compute $y=Tx$ and deconvolve $x$ using `scipy.sparse.linalg.cg` with $tol \\in \\{10^{-3}, 10^{-4}, 10^{-5}, 10^{-6}, 10^{-7}\\}$. For each pair $\\alpha$, $tol$ write out `num_iters` and relative error $e = \\frac{\\|x - x^*\\|_2}{\\|x\\|_2}$ .\n",
    "- Comment on the results: \n",
    "\n",
    "    1) why the relative error does not converge to zero? \n",
    "    \n",
    "    2) why the relative error converges to different values for different $\\alpha$?"
   ]
  },
  {
   "cell_type": "code",
   "execution_count": 19,
   "metadata": {
    "id": "1ZziAoPv6hpw"
   },
   "outputs": [
    {
     "name": "stdout",
     "output_type": "stream",
     "text": [
      "11\n",
      "46\n",
      "136\n",
      "788\n",
      "1000\n",
      "18\n",
      "53\n",
      "169\n",
      "559\n",
      "1000\n",
      "13\n",
      "49\n",
      "158\n",
      "489\n",
      "1000\n",
      "       1.000000e-03  1.000000e-04  1.000000e-05  1.000000e-06  1.000000e-07\n",
      "0.100      0.128471      0.101914      0.095868      0.072183      0.070512\n",
      "0.010      0.215192      0.201939      0.197165      0.194882      0.193342\n",
      "0.001      0.436272      0.419854      0.400112      0.380940      0.372960\n"
     ]
    },
    {
     "data": {
      "text/html": [
       "<div>\n",
       "<style scoped>\n",
       "    .dataframe tbody tr th:only-of-type {\n",
       "        vertical-align: middle;\n",
       "    }\n",
       "\n",
       "    .dataframe tbody tr th {\n",
       "        vertical-align: top;\n",
       "    }\n",
       "\n",
       "    .dataframe thead th {\n",
       "        text-align: right;\n",
       "    }\n",
       "</style>\n",
       "<table border=\"1\" class=\"dataframe\">\n",
       "  <thead>\n",
       "    <tr style=\"text-align: right;\">\n",
       "      <th></th>\n",
       "      <th>1.000000e-03</th>\n",
       "      <th>1.000000e-04</th>\n",
       "      <th>1.000000e-05</th>\n",
       "      <th>1.000000e-06</th>\n",
       "      <th>1.000000e-07</th>\n",
       "    </tr>\n",
       "  </thead>\n",
       "  <tbody>\n",
       "    <tr>\n",
       "      <th>0.100</th>\n",
       "      <td>11.0</td>\n",
       "      <td>46.0</td>\n",
       "      <td>136.0</td>\n",
       "      <td>788.0</td>\n",
       "      <td>1000.0</td>\n",
       "    </tr>\n",
       "    <tr>\n",
       "      <th>0.010</th>\n",
       "      <td>18.0</td>\n",
       "      <td>53.0</td>\n",
       "      <td>169.0</td>\n",
       "      <td>559.0</td>\n",
       "      <td>1000.0</td>\n",
       "    </tr>\n",
       "    <tr>\n",
       "      <th>0.001</th>\n",
       "      <td>13.0</td>\n",
       "      <td>49.0</td>\n",
       "      <td>158.0</td>\n",
       "      <td>489.0</td>\n",
       "      <td>1000.0</td>\n",
       "    </tr>\n",
       "  </tbody>\n",
       "</table>\n",
       "</div>"
      ],
      "text/plain": [
       "       1.000000e-03  1.000000e-04  1.000000e-05  1.000000e-06  1.000000e-07\n",
       "0.100          11.0          46.0         136.0         788.0        1000.0\n",
       "0.010          18.0          53.0         169.0         559.0        1000.0\n",
       "0.001          13.0          49.0         158.0         489.0        1000.0"
      ]
     },
     "execution_count": 19,
     "metadata": {},
     "output_type": "execute_result"
    }
   ],
   "source": [
    "# your code is here\n",
    "class iteretion_counter:\n",
    "    def __init__(self, init_number = 0):\n",
    "        self.s = init_number\n",
    "        \n",
    "    def count(self, x):\n",
    "        self.s += 1\n",
    "        return 0\n",
    "\n",
    "from scipy.sparse.linalg import cg\n",
    "import pandas as pd\n",
    "n = 3\n",
    "alphas = [1e-1, 1e-2, 1e-3]\n",
    "tols = [1e-3, 1e-4, 1e-5, 1e-6, 1e-7]\n",
    "results = np.zeros((len(alphas), len(tols)))\n",
    "num_iter = results.copy()\n",
    "\n",
    "# x = np.random.random(n ** 2)\n",
    "\n",
    "x = plt.imread('qrcode.gif')[:,:,0]\n",
    "n = x.shape[0]\n",
    "x = x.reshape((n ** 2, ))\n",
    "\n",
    "for i in range(len(alphas)):\n",
    "    alpha = alphas[i]\n",
    "    T = LinearOperator((n**2, n**2), matvec = lambda x : T_matvec(x, alpha))\n",
    "    for j in range(len(tols)):\n",
    "        tol = tols[j]\n",
    "        y = T.dot(x)\n",
    "        \n",
    "        a = iteretion_counter()\n",
    "#         x_cg, info = cg(T,y,tol = tol)\n",
    "        x_cg, info = cg(T,y,tol = tol, maxiter = 1000, callback = a.count)\n",
    "        results[i,j] = np.linalg.norm(x_cg - x) / np.linalg.norm(x)\n",
    "        num_iter[i,j] = a.s\n",
    "        print(a.s)\n",
    "\n",
    "columns = tols\n",
    "rows = alphas\n",
    "df = pd.DataFrame(results, columns=columns, index=rows)\n",
    "print(df)\n",
    "df_iters = pd.DataFrame(num_iter, columns=columns, index=rows)\n",
    "df_iters"
   ]
  },
  {
   "cell_type": "markdown",
   "metadata": {},
   "source": [
    "The problem is that due to numerical errors, the matrix is actually singular. Because of this, from a certain point on, convergence to the true solution is slowed down and the relative error ceases to change.   \n",
    "The relative error converges to alpha-dependent values precisely because it is alpha that determines how many values in the matrix will turn to zeros"
   ]
  },
  {
   "cell_type": "markdown",
   "metadata": {
    "id": "lJ4XOLfw6hpx"
   },
   "source": [
    "In all further tasks fix $\\alpha = 0.01$. Compute $y = Tx$, and add vector with Gaussian noise from $\\mathcal{N}(0, 1)$ to $y$ and get the final right-hand side $\\hat{y}$.\n",
    "\n",
    "## Task 3 (10 pts)\n",
    "- Try to deconvolve $\\hat{y}$ with matrix $T$ using $tol=10^{-5}$ in CG. Explain, why CG does not converge.\n",
    "- Suggest how CG can still be used to recover $x$. What are drawbacks of the suggested approach?"
   ]
  },
  {
   "cell_type": "code",
   "execution_count": 192,
   "metadata": {
    "id": "JzT0Wfzl6hpx"
   },
   "outputs": [],
   "source": [
    "# your code is here\n",
    "alpha = 0.01\n",
    "tol = 1e-5\n",
    "x = plt.imread('qrcode.gif')[:,:,0]\n",
    "n = x.shape[0]\n",
    "x = x.reshape((n ** 2, ))\n",
    "T = LinearOperator((n**2, n**2), matvec = lambda x : T_matvec(x, alpha))\n",
    "y_hat = T.dot(x) + np.random.normal(size = x.shape)\n",
    "x_cg, info = cg(T,y_hat,tol = tol, maxiter = 300)"
   ]
  },
  {
   "cell_type": "code",
   "execution_count": 193,
   "metadata": {},
   "outputs": [
    {
     "data": {
      "text/plain": [
       "300"
      ]
     },
     "execution_count": 193,
     "metadata": {},
     "output_type": "execute_result"
    }
   ],
   "source": [
    "info"
   ]
  },
  {
   "cell_type": "code",
   "execution_count": 194,
   "metadata": {},
   "outputs": [
    {
     "data": {
      "text/plain": [
       "111287.73961194257"
      ]
     },
     "execution_count": 194,
     "metadata": {},
     "output_type": "execute_result"
    }
   ],
   "source": [
    "np.linalg.norm(x_cg - x) / np.linalg.norm(x)"
   ]
  },
  {
   "cell_type": "code",
   "execution_count": 124,
   "metadata": {},
   "outputs": [
    {
     "data": {
      "text/plain": [
       "0.0048653365736848276"
      ]
     },
     "execution_count": 124,
     "metadata": {},
     "output_type": "execute_result"
    }
   ],
   "source": [
    "x = plt.imread('qrcode.gif')[:,:,0]\n",
    "n = x.shape[0]\n",
    "x = x.reshape((n ** 2, ))\n",
    "T = LinearOperator((n**2, n**2), matvec = lambda x : T_matvec(x, alpha))\n",
    "z = T.dot(x)\n",
    "y_hat = T.dot(x) + np.random.normal(size = x.shape)\n",
    "np.linalg.norm(z - y_hat)/np.linalg.norm(z)\n"
   ]
  },
  {
   "cell_type": "markdown",
   "metadata": {},
   "source": [
    "due to the fact that the matrix is not positively defined in practice, but only non-negatively, random noise outputs the righthand side from the Image(A). Therefore, the method can't converge. Regularization Will make matrix A positive definite"
   ]
  },
  {
   "cell_type": "markdown",
   "metadata": {
    "id": "ez3m0Y-n6hpy"
   },
   "source": [
    "## Task 4 (10 pts)\n",
    "\n",
    "- Implement Tikhonov regularization, i.e. deconvolve $\\hat{y}$ with the perturbed matrix $T_{\\lambda} = T + \\lambda^2I$ instead of $T$. Modify `T_matvec()` according to the template below.\n",
    "- Perform computations for all $\\lambda \\in \\{10, 1, 0.1\\}$ and $tol \\in \\{10^{-3}, 10^{-4}, 10^{-5},10^{-6}, 10^{-7} \\}$. For each pair $(\\lambda, tol)$ write out `num_iters` and relative error $e = \\frac{\\|x - x^*\\|_2}{\\|x\\|_2}$. Comment on the results: \n",
    "    - Compare robustness of the convergence with task 2. What the observed results indicate?"
   ]
  },
  {
   "cell_type": "code",
   "execution_count": 21,
   "metadata": {
    "id": "IIs9QI7R6hpy"
   },
   "outputs": [
    {
     "name": "stdout",
     "output_type": "stream",
     "text": [
      "      1.000000e-03  1.000000e-04  1.000000e-05  1.000000e-06  1.000000e-07\n",
      "10.0      0.992306      0.992304      0.992304      0.992304      0.992304\n",
      "1.0       0.614605      0.614585      0.614584      0.614584      0.614584\n",
      "0.1       0.513029      0.516493      0.516688      0.516695      0.516695\n"
     ]
    },
    {
     "data": {
      "text/html": [
       "<div>\n",
       "<style scoped>\n",
       "    .dataframe tbody tr th:only-of-type {\n",
       "        vertical-align: middle;\n",
       "    }\n",
       "\n",
       "    .dataframe tbody tr th {\n",
       "        vertical-align: top;\n",
       "    }\n",
       "\n",
       "    .dataframe thead th {\n",
       "        text-align: right;\n",
       "    }\n",
       "</style>\n",
       "<table border=\"1\" class=\"dataframe\">\n",
       "  <thead>\n",
       "    <tr style=\"text-align: right;\">\n",
       "      <th></th>\n",
       "      <th>1.000000e-03</th>\n",
       "      <th>1.000000e-04</th>\n",
       "      <th>1.000000e-05</th>\n",
       "      <th>1.000000e-06</th>\n",
       "      <th>1.000000e-07</th>\n",
       "    </tr>\n",
       "  </thead>\n",
       "  <tbody>\n",
       "    <tr>\n",
       "      <th>10.0</th>\n",
       "      <td>1.0</td>\n",
       "      <td>2.0</td>\n",
       "      <td>2.0</td>\n",
       "      <td>3.0</td>\n",
       "      <td>3.0</td>\n",
       "    </tr>\n",
       "    <tr>\n",
       "      <th>1.0</th>\n",
       "      <td>4.0</td>\n",
       "      <td>5.0</td>\n",
       "      <td>6.0</td>\n",
       "      <td>8.0</td>\n",
       "      <td>9.0</td>\n",
       "    </tr>\n",
       "    <tr>\n",
       "      <th>0.1</th>\n",
       "      <td>19.0</td>\n",
       "      <td>28.0</td>\n",
       "      <td>38.0</td>\n",
       "      <td>50.0</td>\n",
       "      <td>61.0</td>\n",
       "    </tr>\n",
       "  </tbody>\n",
       "</table>\n",
       "</div>"
      ],
      "text/plain": [
       "      1.000000e-03  1.000000e-04  1.000000e-05  1.000000e-06  1.000000e-07\n",
       "10.0           1.0           2.0           2.0           3.0           3.0\n",
       "1.0            4.0           5.0           6.0           8.0           9.0\n",
       "0.1           19.0          28.0          38.0          50.0          61.0"
      ]
     },
     "execution_count": 21,
     "metadata": {},
     "output_type": "execute_result"
    }
   ],
   "source": [
    "def T_lmbda_matvec(x, aplha, lmbda):\n",
    "    n = int(x.shape[0]**(1/2))\n",
    "    x_matrix = np.reshape(x,(n,n), order='c')\n",
    "    T = np.array(range(n)).reshape((n,1))\n",
    "    T1 = T.repeat(n,axis=1)\n",
    "    T2 = T1.T\n",
    "    T = alpha * np.exp(- alpha * (T1 ** 2 + T2 ** 2)) / np.pi\n",
    "    T = np.concatenate((T,np.fliplr(T[:,1:])),axis=1)\n",
    "    T = np.concatenate((T,np.flipud(T[1:,:])),axis=0)\n",
    "    pseudo_x = np.zeros(T.shape)\n",
    "    pseudo_x[:n,:n] = x_matrix\n",
    "    pseudo_y = np.fft.ifft2(np.fft.fft2(T) * np.fft.fft2(pseudo_x))\n",
    "    return np.real(np.reshape(pseudo_y[:n,:n], (n ** 2,), order='c')) + x * lmbda ** 2\n",
    "\n",
    "# your code is here\n",
    "\n",
    "from scipy.sparse.linalg import cg\n",
    "import pandas as pd\n",
    "n = 20\n",
    "lambdas = [10, 1, 0.1]\n",
    "tols = [1e-3, 1e-4, 1e-5, 1e-6, 1e-7]\n",
    "alpha = 0.01\n",
    "results = np.zeros((len(lambdas), len(tols)))\n",
    "num_iter = results.copy()\n",
    "x = np.random.random(n ** 2)\n",
    "\n",
    "x = plt.imread('qrcode.gif')[:,:,0]\n",
    "n = x.shape[0]\n",
    "x = x.reshape((n ** 2, ))\n",
    "\n",
    "for i in range(len(lambdas)):\n",
    "    lambda_ = lambdas[i]\n",
    "    T_lam = LinearOperator((n**2, n**2), matvec = lambda x : T_lmbda_matvec(x, alpha, lambda_))\n",
    "    T = LinearOperator((n**2, n**2), matvec = lambda x : T_matvec(x, alpha))\n",
    "    for j in range(len(tols)):\n",
    "        tol = tols[j]\n",
    "        np.random.seed(42)\n",
    "        y = T.dot(x) + np.random.normal(size = x.shape)##############\n",
    "        a = iteretion_counter()\n",
    "        x_cg, info = cg(T_lam,y,tol = tol, maxiter = 1000, callback = a.count)\n",
    "        results[i,j] = np.linalg.norm(x_cg - x) / np.linalg.norm(x)\n",
    "        num_iter[i,j] = a.s\n",
    "#         print(a.s)\n",
    "\n",
    "columns = tols\n",
    "rows = lambdas\n",
    "df = pd.DataFrame(results, columns=columns, index=rows)\n",
    "print(df)\n",
    "df_iters = pd.DataFrame(num_iter, columns=columns, index=rows)\n",
    "df_iters"
   ]
  },
  {
   "cell_type": "markdown",
   "metadata": {},
   "source": [
    "It can be seen that the convergence of the method has appeared. At the same time, there is still a convergence of the relative error. But the smaller the lambda, the smaller it is. This leads us to think that to find out x, we can reduce lambda. Thus, we will look for a balance between the speed of convergence and accuracy by selecting lambda.  \n",
    "It is unlikely that we will exceed the accuracy for a noiseless matrix, but we have already significantly increased the convergence rate."
   ]
  },
  {
   "cell_type": "code",
   "execution_count": 22,
   "metadata": {},
   "outputs": [],
   "source": [
    "alpha = 0.01\n",
    "tol = 1e-5\n",
    "x = plt.imread('qrcode.gif')[:,:,0]\n",
    "n = x.shape[0]\n",
    "x = x.reshape((n ** 2, ))\n",
    "lambda_ = 10\n",
    "T = LinearOperator((n**2, n**2), matvec = lambda x : T_lmbda_matvec(x, alpha, lambda_))\n",
    "y_hat = T.dot(x) + np.random.normal(size = x.shape)\n",
    "x_cg, info = cg(T,y_hat,tol = tol, maxiter = 300)"
   ]
  },
  {
   "cell_type": "code",
   "execution_count": 23,
   "metadata": {},
   "outputs": [
    {
     "data": {
      "image/png": "[encoded data removed]",
      "text/plain": [
       "<Figure size 432x288 with 1 Axes>"
      ]
     },
     "metadata": {
      "needs_background": "light"
     },
     "output_type": "display_data"
    }
   ],
   "source": [
    "plt.imshow(x_cg.reshape((n,n)), cmap=\"gray\")\n",
    "plt.axis(\"off\")\n",
    "plt.show()"
   ]
  },
  {
   "cell_type": "markdown",
   "metadata": {
    "id": "ut0QG1AW6hpy"
   },
   "source": [
    "## Task 5 (20 pts)\n",
    "\n",
    "- Implement BCCB preconditioner for $T_{\\lambda}$ based on Strang preconditioner for Toeplitz matrix (hint: build circulants using first columns of Toeplitz matrices on both levels). You know from lectures that circulants can be explicitly inverted using convolution theorem. Implement the corresponding matvec according to the template provided below.\n",
    "- Check speedup in iterations and runtime that can be gained from the preconditioning for $\\alpha = 0.01$, $\\lambda = 1$ compared with Task 4. Explain results."
   ]
  },
  {
   "cell_type": "code",
   "execution_count": 178,
   "metadata": {
    "id": "DiJcm6XQ6hpz"
   },
   "outputs": [
    {
     "name": "stdout",
     "output_type": "stream",
     "text": [
      "1.18 s ± 54.7 ms per loop (mean ± std. dev. of 7 runs, 1 loop each)\n",
      "0\n",
      "1.12 s ± 3.79 ms per loop (mean ± std. dev. of 7 runs, 1 loop each)\n",
      "0\n",
      "tol = 1e-05, iterations = 6, relative error = 0.6145840967452887\n",
      "tol = 1e-05, iterations = 3, relative error = 0.6145841321813044 with precondition\n"
     ]
    }
   ],
   "source": [
    "from scipy.linalg import circulant\n",
    "\n",
    "def C_inv_matvec(x, aplha, lmbda):\n",
    "    n = int(x.shape[0]**(1/2))\n",
    "    x_matrix = np.reshape(x,(n,n), order='c')\n",
    "    T = np.arange(n).reshape((n,1))\n",
    "    T1 = T.repeat(n,axis=1)\n",
    "    T2 = T1.T\n",
    "    T = alpha * np.exp(- alpha * (T1 ** 2 + T2 ** 2)) / np.pi\n",
    "    T = np.concatenate((T,np.fliplr(T[:,1:])),axis=1)\n",
    "    T = np.concatenate((T,np.flipud(T[1:,:])),axis=0)\n",
    "    T[0,0] += lmbda ** 2\n",
    "    pseudo_x = np.zeros(T.shape)\n",
    "    pseudo_x[:n,:n] = x_matrix\n",
    "    pseudo_y = np.fft.ifft2(np.fft.fft2(pseudo_x) / np.fft.fft2(T))\n",
    "    return np.real(np.reshape(pseudo_y[:n,:n], (n ** 2,), order='c'))\n",
    "\n",
    "# def C_lmbda_matvec(x, aplha, lmbda):\n",
    "#     n = int(x.shape[0]**(1/2))\n",
    "# #     x_matrix = np.reshape(x,(n,n), order='c')\n",
    "#     T = np.array(range(n)).reshape((n,1))\n",
    "#     T1 = T.repeat(n,axis=1)\n",
    "#     T2 = T1.T\n",
    "#     T = alpha * np.exp(- alpha * (T1 ** 2 + T2 ** 2)) / np.pi\n",
    "#     c = np.reshape(T, (n ** 2,), order='f')\n",
    "#     c[0] += lmbda ** 2\n",
    "#     y = np.fft.ifft(np.fft.fft(x) / np.fft.fft(c))\n",
    "#     return y\n",
    "\n",
    "#+ x * lmbda ** 2\n",
    "\n",
    "# def C_inv_matvec1(x, aplha, lmbda):\n",
    "#     n = int(x.shape[0]**(1/2))\n",
    "#     x_matrix = np.reshape(x,(n,n), order='c')\n",
    "#     T = np.arange(n).reshape((n,1))\n",
    "#     T1 = T.repeat(n,axis=1)\n",
    "#     T2 = T1.T\n",
    "#     T = alpha * np.exp(- alpha * (T1 ** 2 + T2 ** 2)) / np.pi\n",
    "# #     T = np.concatenate((T,np.fliplr(T[:,1:])),axis=1)\n",
    "# #     T = np.concatenate((T,np.flipud(T[1:,:])),axis=0)\n",
    "#     T[0,0] += lmbda ** 2\n",
    "#     pseudo_x = np.zeros(T.shape)\n",
    "#     pseudo_x[:n,:n] = x_matrix\n",
    "#     pseudo_x = x_matrix\n",
    "#     pseudo_y = np.fft.ifft2(np.fft.fft2(pseudo_x) / np.fft.fft(np.fft.fft(T).T).T) #np.fft.fft2(T)\n",
    "#     return np.real(np.reshape(pseudo_y, (n ** 2,), order='c'))\n",
    "\n",
    "\n",
    "# def T_vector(x, aplha, lmbda):\n",
    "#     n = x.shape[0]\n",
    "#     T = np.arange(n).reshape((n,))\n",
    "#     T = alpha * np.exp(- alpha * (T ** 2)) / np.pi\n",
    "#     T = np.concatenate((T,np.flipud(T[1:])),axis=0)\n",
    "#     T[0] += lmbda ** 2\n",
    "#     pseudo_x = np.zeros(T.shape)\n",
    "#     pseudo_x[:n] = x.copy()\n",
    "#     y = np.fft.ifft(np.fft.fft(T)*np.fft.fft(pseudo_x))\n",
    "#     return y[:n]\n",
    "\n",
    "# def C_inv_vector(x, aplha, lmbda):\n",
    "#     n = x.shape[0]\n",
    "#     T = np.arange(n).reshape((n,))\n",
    "#     T = alpha * np.exp(- alpha * (T ** 2)) / np.pi\n",
    "#     T[0] += lmbda ** 2\n",
    "#     pseudo_x = x.copy()\n",
    "#     y = np.fft.ifft(np.fft.fft(pseudo_x) / np.fft.fft(T))\n",
    "#     return y\n",
    "\n",
    "    \n",
    "        \n",
    "\n",
    "# your code is here\n",
    "\n",
    "alpha = 0.01\n",
    "tol = 1e-5\n",
    "x = plt.imread('qrcode.gif')[:,:,0]\n",
    "n = x.shape[0]\n",
    "x = x.reshape((n ** 2, ))\n",
    "\n",
    "lambda_ = 1\n",
    "\n",
    "precondition = LinearOperator((n**2, n**2), matvec = lambda x : C_inv_matvec(x, alpha, lambda_))\n",
    "T = LinearOperator((n**2, n**2), matvec = lambda x : T_lmbda_matvec(x, alpha, lambda_))\n",
    "\n",
    "T_lam = LinearOperator((n**2, n**2), matvec = lambda x : T_lmbda_matvec(x, alpha, lambda_))\n",
    "T = LinearOperator((n**2, n**2), matvec = lambda x : T_matvec(x, alpha))\n",
    "np.random.seed(42)\n",
    "\n",
    "y_hat = T.dot(x) + np.random.normal(size = x.shape)\n",
    "x_cg, info = cg(T_lam,y_hat,tol = tol, maxiter = 1000)\n",
    "%timeit x_cg, info = cg(T_lam,y_hat,tol = tol, maxiter = 1000)\n",
    "print(info)\n",
    "%timeit x_cg, info = cg(T_lam,y_hat,tol = tol, maxiter = 1000, M = precondition)\n",
    "print(info)\n",
    "tols = [1e-3, 1e-4, 1e-5, 1e-6, 1e-7]\n",
    "tols = [1e-5]\n",
    "for i in range(len(tols)):\n",
    "    tol = tols[i]\n",
    "    a = iteretion_counter()\n",
    "    x_cg, info = cg(T_lam,y_hat,tol = tol, maxiter = 200, callback = a.count)\n",
    "    res = np.linalg.norm(x_cg - x) / np.linalg.norm(x)\n",
    "    print(f\"tol = {tol}, iterations = {a.s}, relative error = {res}\")\n",
    "\n",
    "    a = iteretion_counter()\n",
    "    x_cg, info = cg(T_lam,y_hat,tol = tol, maxiter = 200,  M = precondition, callback = a.count)\n",
    "    res = np.linalg.norm(x_cg - x) / np.linalg.norm(x)\n",
    "    print(f\"tol = {tol}, iterations = {a.s}, relative error = {res} with precondition\")"
   ]
  },
  {
   "cell_type": "markdown",
   "metadata": {},
   "source": [
    "As the numpy documentation promises, the convergence rate can increase significantly if you choose the right precondition"
   ]
  },
  {
   "cell_type": "code",
   "execution_count": 176,
   "metadata": {},
   "outputs": [
    {
     "data": {
      "image/png": "[encoded data removed]",
      "text/plain": [
       "<Figure size 432x288 with 1 Axes>"
      ]
     },
     "metadata": {
      "needs_background": "light"
     },
     "output_type": "display_data"
    }
   ],
   "source": [
    "plt.imshow(x_cg.reshape((n,n)), cmap=\"gray\")\n",
    "plt.axis(\"off\")\n",
    "plt.show()"
   ]
  },
  {
   "cell_type": "code",
   "execution_count": 173,
   "metadata": {},
   "outputs": [],
   "source": [
    "# A = np.array([[1,2],[3,4]])\n",
    "# B = np.array([[5,6],[7,8]])\n",
    "# X = np.array([[9,10],[11,12]])\n",
    "# left = np.reshape((A@X@B), (-1,), order='c')\n",
    "# print((A@X@B))\n",
    "# print('left =',left)\n",
    "# right = np.kron(A,B.T)@np.reshape(X, (-1,), order = 'c')\n",
    "# print('right =', right)\n",
    "\n",
    "# x = np.array([10,100])\n",
    "# print(x.T@A@x)\n",
    "# np.dot(A@x,x)"
   ]
  }
 ],
 "metadata": {
  "kernelspec": {
   "display_name": "Python 3",
   "language": "python",
   "name": "python3"
  },
  "language_info": {
   "codemirror_mode": {
    "name": "ipython",
    "version": 3
   },
   "file_extension": ".py",
   "mimetype": "text/x-python",
   "name": "python",
   "nbconvert_exporter": "python",
   "pygments_lexer": "ipython3",
   "version": "3.8.8"
  },
  "toc": {
   "base_numbering": 1,
   "nav_menu": {},
   "number_sections": true,
   "sideBar": true,
   "skip_h1_title": false,
   "title_cell": "Table of Contents",
   "title_sidebar": "Contents",
   "toc_cell": false,
   "toc_position": {},
   "toc_section_display": true,
   "toc_window_display": false
  }
 },
 "nbformat": 4,
 "nbformat_minor": 2
}
